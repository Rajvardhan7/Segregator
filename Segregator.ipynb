{
  "nbformat": 4,
  "nbformat_minor": 0,
  "metadata": {
    "colab": {
      "name": "Segregator.ipynb",
      "provenance": []
    },
    "kernelspec": {
      "name": "python3",
      "display_name": "Python 3"
    }
  },
  "cells": [
    {
      "cell_type": "markdown",
      "metadata": {
        "id": "zfqokcOtceQ4"
      },
      "source": [
        "**CARDINALITY INFO**"
      ]
    },
    {
      "cell_type": "code",
      "metadata": {
        "id": "P0yUu2B1cP0p"
      },
      "source": [
        "def DataCardinalityInfo(df):\n",
        "    data = df\n",
        "    print(data.shape)\n",
        "    cols = set();useless_cols = set()\n",
        "    cols = data.columns\n",
        "    \n",
        "    for i in cols:\n",
        "      if data.shape[0]-10 < data[i].nunique():\n",
        "        useless_cols.add(i)\n",
        "    final_cols = set(cols)-set(useless_cols)\n",
        "    \n",
        "    list_col = [];list_unique =[];list_dtype = []\n",
        "    for i in final_cols:\n",
        "      list_col.append(i); list_dtype.append(data[i].dtype); list_unique.append(data[i].nunique())\n",
        "    \n",
        "    info_data = pd.concat([pd.DataFrame(list_col), pd.DataFrame(list_dtype), pd.DataFrame(list_unique)], axis = 1)\n",
        "    info_data.columns = ['col_name', 'dtype', 'unique_values']\n",
        "    print('\\nInfo From Cardinality Data:')\n",
        "    print(info_data)\n",
        "    \n",
        "    info = info_data.groupby('dtype', sort = 'False')['unique_values'].mean()\n",
        "    print('\\nmean info from cardinality info:');print(info)\n",
        "    \n",
        "    obj_unique_mean = None; int_unique_mean=None\n",
        "    for i in range(len(info)):  \n",
        "      if info.index[i] == np.dtype(np.object):\n",
        "        obj_unique_mean = info[i]\n",
        "      if info.index[i] == np.dtype(np.int):\n",
        "        int_unique_mean = info[i]\n",
        "    \n",
        "    return obj_unique_mean, int_unique_mean"
      ],
      "execution_count": null,
      "outputs": []
    },
    {
      "cell_type": "markdown",
      "metadata": {
        "id": "OfYW8CXbcWfs"
      },
      "source": [
        "**FEATURES SEGREGATION**"
      ]
    },
    {
      "cell_type": "code",
      "metadata": {
        "id": "894CAitYcZ9c"
      },
      "source": [
        "def Segregation(df, target):\n",
        "                                                                                \n",
        "    # Converting it into pandas dataframe\n",
        "    data = pd.DataFrame(df)\n",
        "    \n",
        "    # Dropping Target Variable Column\n",
        "    if target in data.columns:\n",
        "      data = data.drop(target, axis = 1)\n",
        "    else:\n",
        "      print('\\n there is No target column moving forward')\n",
        "    \n",
        "    # Creating Containers for numerical columns and categorial columns\n",
        "    num_cols = set(data._get_numeric_data().columns)                       # Numerical Columns\n",
        "    non_num_cols = set(data.columns)-set(num_cols)                         # Categorial Columns(or non-num)\n",
        "    \n",
        "    print('\\nTotal num-cols: {}'.format(len(num_cols)))\n",
        "    print('\\nTotal non-num-cols: {}'.format(len(non_num_cols)))\n",
        "    \n",
        "    # container for completely non-useful columns (will help for analysis)\n",
        "    useless_cols = set()\n",
        "    \n",
        "    ############# PART FOR GETTING USEFUL COLS FROM CATEGORIAL COLS  ################  \n",
        "\n",
        "    # Getting mean of unique values\n",
        "    obj_unique_mean, int_unique_mean = DataCardinalityInfo(data)\n",
        "    \n",
        "    if len(non_num_cols) == 0:\n",
        "      print('All cols in the data are numerical')\n",
        "    else:\n",
        "      # Container for useful obj columns\n",
        "      useful_obj_cols = set()\n",
        "      \n",
        "      # Categorial columns having unique values less than no_of_rows*max_card_factor will be considered as useful \n",
        "      if obj_unique_mean:\n",
        "        if obj_unique_mean<5:\n",
        "          obj_unique_mean = 5   # Because we can afford 10 dummy columns in final dataframe\n",
        "        \n",
        "        for i in non_num_cols:\n",
        "          if data[i].nunique() < obj_unique_mean:\n",
        "            useful_obj_cols.add(i)\n",
        "          else:\n",
        "            useless_cols.add(i)\n",
        "    \n",
        "      print('\\nTotal useful cols(having unique values less than {}) found among categorial cols(or non-num-cols): {}' .format(obj_unique_mean, len(useful_obj_cols)))\n",
        "    \n",
        "    # Removing Columns like Id\n",
        "    full_cardinality_relief = 10\n",
        "    \n",
        "    full_card = set()\n",
        "    for i in num_cols:\n",
        "      if data.shape[0]-full_cardinality_relief < data[i].nunique() and df[i].dtype != np.dtype(np.float) :\n",
        "        full_card.add(i)\n",
        "    \n",
        "    # Removing useless_cols from num_cols container\n",
        "    num_cols = set(num_cols)-set(full_card)\n",
        "    \n",
        "    useless_cols.update(full_card); del full_card\n",
        "    if len(useless_cols) == 0:\n",
        "      print('\\nNo useless columns dropped')\n",
        "    else:\n",
        "      print('\\nThere is/are {} columns which are useless. These include:\\n {}' .format(len(useless_cols), useless_cols))\n",
        "    \n",
        "    \n",
        "    \n",
        "    ############ PART FOR RETRIEVING  DISCRETE COLS from NUMERICAL COLS ##################\n",
        "\n",
        "    # Its important to create a set for discrete cols because only these will be converted to dummy variables\n",
        "    discrete_cols = set()\n",
        "\n",
        "    # this factor decides how many unique values are required in order to be a discrete column\n",
        "    if int_unique_mean:\n",
        "      if int_unique_mean>200:\n",
        "        int_unique_mean = 200\n",
        "      for i in num_cols:\n",
        "        if data[i].nunique() < int_unique_mean: \n",
        "          discrete_cols.add(i)   \n",
        "    num_cols = set(num_cols) - set(discrete_cols)\n",
        "    \n",
        "    # Joining useful obj cols with discrete cols retrieved here    \n",
        "    discrete_cols.update(useful_obj_cols)\n",
        "    print('\\nFinal discrete cols found that will be converted to dummy variables : {} which are:\\n{}'.format(len(discrete_cols), discrete_cols))  \n",
        "    \n",
        "    return num_cols, discrete_cols, useless_cols"
      ],
      "execution_count": 1,
      "outputs": []
    },
    {
      "cell_type": "code",
      "metadata": {
        "id": "w5hGGroncalm"
      },
      "source": [
        ""
      ],
      "execution_count": null,
      "outputs": []
    }
  ]
}